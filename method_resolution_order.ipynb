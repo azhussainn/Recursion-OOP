{
 "cells": [
  {
   "cell_type": "code",
   "execution_count": 3,
   "metadata": {},
   "outputs": [],
   "source": [
    "class Mother:\n",
    "    \n",
    "    def __init__(self):\n",
    "        self.name = \"Manju\"\n",
    "    \n",
    "    def print_something(self):\n",
    "        print(\"print of Mother Called\")\n",
    "        \n",
    "        \n",
    "class Father:\n",
    "    \n",
    "    def __init__(self):\n",
    "        self.name = \"Ajay\"\n",
    "    \n",
    "    def print_something(self):\n",
    "        print(\"print of Father Called\")\n",
    "        \n",
    "\n",
    "class Child(Father, Mother):\n",
    "    \n",
    "    def __init__(self):\n",
    "        super().__init__()\n",
    "        \n",
    "    def print_something(self):\n",
    "        print(\"Name of child is \", self.name)"
   ]
  },
  {
   "cell_type": "code",
   "execution_count": 4,
   "metadata": {},
   "outputs": [
    {
     "name": "stdout",
     "output_type": "stream",
     "text": [
      "Name of child is  Ajay\n"
     ]
    }
   ],
   "source": [
    "c = Child()\n",
    "c.print_something()"
   ]
  },
  {
   "cell_type": "code",
   "execution_count": 11,
   "metadata": {},
   "outputs": [
    {
     "name": "stdout",
     "output_type": "stream",
     "text": [
      "[<class '__main__.Child'>, <class '__main__.Father'>, <class '__main__.Mother'>, <class 'object'>]\n"
     ]
    }
   ],
   "source": [
    "#the function returns a list of how things will be inherited.\n",
    "#first of all is the own Child class, then is the Father class\n",
    "#and then is the Mother Class.\n",
    "\n",
    "print(Child.mro())"
   ]
  },
  {
   "cell_type": "code",
   "execution_count": 12,
   "metadata": {},
   "outputs": [],
   "source": [
    "#Methods Resolution Order works in depth first search. It goes\n",
    "#depth first into all the branches of inheritance util it reaches\n",
    "#the object class. If it finds an inheritance on a newer branch\n",
    "#it will destroy the previous."
   ]
  },
  {
   "cell_type": "code",
   "execution_count": 20,
   "metadata": {},
   "outputs": [],
   "source": [
    "class X: pass\n",
    "\n",
    "class Y: pass\n",
    "\n",
    "class Z:pass\n",
    "\n",
    "class A(X,Y):pass\n",
    "\n",
    "class B(Y,Z):pass\n",
    "\n",
    "class C(B,A,Y):pass\n",
    "\n",
    "\n",
    "#the method resolution order will be:\n",
    "\n",
    "# C--> B --> Z --> A ---> X ---> \n",
    "\n",
    "#THIS CAN BE CALCULATED USING A DFS GRAPH."
   ]
  },
  {
   "cell_type": "markdown",
   "metadata": {},
   "source": [
    "C\n",
    " : B\n",
    " : Z\n",
    " : A\n",
    " : X\n",
    " : Y"
   ]
  },
  {
   "cell_type": "code",
   "execution_count": null,
   "metadata": {},
   "outputs": [],
   "source": []
  }
 ],
 "metadata": {
  "kernelspec": {
   "display_name": "Python 3",
   "language": "python",
   "name": "python3"
  },
  "language_info": {
   "codemirror_mode": {
    "name": "ipython",
    "version": 3
   },
   "file_extension": ".py",
   "mimetype": "text/x-python",
   "name": "python",
   "nbconvert_exporter": "python",
   "pygments_lexer": "ipython3",
   "version": "3.7.4"
  }
 },
 "nbformat": 4,
 "nbformat_minor": 2
}
