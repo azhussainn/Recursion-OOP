{
 "cells": [
  {
   "cell_type": "code",
   "execution_count": null,
   "metadata": {},
   "outputs": [],
   "source": [
    "class Zero_cant_be_denominator(ZeroDivisionError):\n",
    "    pass\n",
    "\n",
    "while True:\n",
    "    try:\n",
    "        n = input(\"enter the numerator\")\n",
    "        num = int(n)\n",
    "\n",
    "        n = input(\"enter the denominator\")\n",
    "        denum = int(n)\n",
    "        \n",
    "        if denum == 0:\n",
    "            raise Zero_cant_be_denominator(\"Zero cant be denominator\")\n",
    "        \n",
    "    except ValueError:\n",
    "        print(\"Numerator and Denominators should be integers\")\n",
    "    \n",
    "    except Zero_cant_be_denominator:\n",
    "        print(\"zeros cant be a denominator error\")\n",
    "    except ZeroDivisionError:\n",
    "        print(\"the actual zero division error\")\n",
    "        \n",
    "    else:\n",
    "        value = num / denum\n",
    "        print(value)\n",
    "        break\n",
    "        \n",
    "    finally:\n",
    "        print(num)\n",
    "        print(denum)\n",
    "        print(value)\n",
    "        print(\">> in the finally block <<\")"
   ]
  }
 ],
 "metadata": {
  "kernelspec": {
   "display_name": "Python 3",
   "language": "python",
   "name": "python3"
  },
  "language_info": {
   "codemirror_mode": {
    "name": "ipython",
    "version": 3
   },
   "file_extension": ".py",
   "mimetype": "text/x-python",
   "name": "python",
   "nbconvert_exporter": "python",
   "pygments_lexer": "ipython3",
   "version": "3.7.4"
  }
 },
 "nbformat": 4,
 "nbformat_minor": 2
}
