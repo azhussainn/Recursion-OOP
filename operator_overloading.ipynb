{
 "cells": [
  {
   "cell_type": "code",
   "execution_count": 7,
   "metadata": {},
   "outputs": [],
   "source": [
    "import math\n",
    "class Point:\n",
    "    \n",
    "    def __init__(self, x, y):\n",
    "        self.__x = x\n",
    "        self.__y = y\n",
    "        \n",
    "    \n",
    "    def __str__(self):\n",
    "        return \"This point is at (\" + str(self.__x) + \",\" + str(self.__y) + \")\"\n",
    "    \n",
    "    \n",
    "    def __add__(self, point_obj):\n",
    "        return Point(self.__x + point_obj.__x, self.__y + point_obj.__y)\n",
    "    \n",
    "    \n",
    "    \n",
    "    def __lt__(self, point_obj):\n",
    "        return math.sqrt(self.__x ** 2 + self.__y ** 2) < math.sqrt(point_obj.__x** 2 + point_obj.__y ** 2)"
   ]
  },
  {
   "cell_type": "code",
   "execution_count": 10,
   "metadata": {},
   "outputs": [
    {
     "name": "stdout",
     "output_type": "stream",
     "text": [
      "This point is at (1,2)\n",
      "This point is at (3,4)\n",
      "This point is at (4,6)\n",
      "False\n"
     ]
    }
   ],
   "source": [
    "p1 = Point(1, 2)\n",
    "p2 = Point(3, 4)\n",
    "\n",
    "print(p1)\n",
    "print(p2)\n",
    "\n",
    "p3 = p1 + p2\n",
    "print(p3)\n",
    "\n",
    "print(p1 > p2)"
   ]
  },
  {
   "cell_type": "code",
   "execution_count": null,
   "metadata": {},
   "outputs": [],
   "source": []
  }
 ],
 "metadata": {
  "kernelspec": {
   "display_name": "Python 3",
   "language": "python",
   "name": "python3"
  },
  "language_info": {
   "codemirror_mode": {
    "name": "ipython",
    "version": 3
   },
   "file_extension": ".py",
   "mimetype": "text/x-python",
   "name": "python",
   "nbconvert_exporter": "python",
   "pygments_lexer": "ipython3",
   "version": "3.7.4"
  }
 },
 "nbformat": 4,
 "nbformat_minor": 2
}
