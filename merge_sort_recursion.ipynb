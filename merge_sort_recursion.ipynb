{
 "cells": [
  {
   "cell_type": "code",
   "execution_count": 1,
   "metadata": {},
   "outputs": [],
   "source": [
    "def merge_sort(arr):\n",
    "    \n",
    "    #base case\n",
    "    if len(arr) == 0 or len(arr) == 1:\n",
    "        return arr\n",
    "    \n",
    "    midpoint = len(arr)//2\n",
    "    \n",
    "    leftpart = arr[:midpoint]\n",
    "    rightpart = arr[midpoint:]\n",
    "    \n",
    "    #induction hypothesis\n",
    "    sortedLeft = merge_sort(leftpart)\n",
    "    sortedRight = merge_sort(rightpart)\n",
    "    \n",
    "    #merging sorted left and right side\n",
    "    \n",
    "    i = 0\n",
    "    j = 0\n",
    "    k = 0\n",
    "    while i < len(sortedLeft) and j < len(sortedRight):\n",
    "\n",
    "        if sortedLeft[i] < sortedRight[j]:\n",
    "            arr[k] = sortedLeft[i]\n",
    "            i += 1\n",
    "\n",
    "        else:\n",
    "            arr[k] = sortedRight[j]\n",
    "            j += 1\n",
    "\n",
    "        k += 1\n",
    "\n",
    "    while i != len(sortedLeft):\n",
    "        arr[k] = sortedLeft[i]\n",
    "        k += 1\n",
    "        i += 1\n",
    "\n",
    "    while j != len(sortedRight):\n",
    "        arr[k] = sortedRight[j]\n",
    "        k += 1\n",
    "        j += 1\n",
    "    \n",
    "    return arr"
   ]
  },
  {
   "cell_type": "code",
   "execution_count": 2,
   "metadata": {},
   "outputs": [
    {
     "data": {
      "text/plain": [
       "[0, 1, 2, 2, 10, 12, 12, 42, 45]"
      ]
     },
     "execution_count": 2,
     "metadata": {},
     "output_type": "execute_result"
    }
   ],
   "source": [
    "arr = [12, 1, 2, 0, 45, 2, 10, 12, 42,]\n",
    "merge_sort(arr)"
   ]
  },
  {
   "cell_type": "code",
   "execution_count": 11,
   "metadata": {},
   "outputs": [],
   "source": [
    "def merge(a1, a2, a):\n",
    "    i = 0\n",
    "    j = 0\n",
    "    k = 0\n",
    "    \n",
    "    while i < len(a1) and j < len(a2):\n",
    "        if a1[i] < a2[j]:\n",
    "            a[k] = a1[i]\n",
    "            k += 1\n",
    "            i += 1\n",
    "        else:\n",
    "            a[k] = a2[j]\n",
    "            k += 1\n",
    "            j += 1\n",
    "            \n",
    "    while i < len(a1):\n",
    "        a[k] = a1[i]\n",
    "        k += 1\n",
    "        i += 1\n",
    "        \n",
    "    while j < len(a2):\n",
    "        a[k] = a2[j]\n",
    "        k += 1\n",
    "        j += 1\n",
    "\n",
    "\n",
    "def mergeSortCN(a):\n",
    "    \n",
    "    if len(a) == 0 or len(a) == 1:\n",
    "        return\n",
    "    \n",
    "    mid = len(a) // 2\n",
    "    \n",
    "    a1 = a[:mid]\n",
    "    a2 = a[mid:]\n",
    "    \n",
    "    mergeSortCN(a1)\n",
    "    mergeSortCN(a2)\n",
    "    \n",
    "    merge(a1, a2, a)"
   ]
  },
  {
   "cell_type": "code",
   "execution_count": 12,
   "metadata": {},
   "outputs": [
    {
     "name": "stdout",
     "output_type": "stream",
     "text": [
      "[0, 1, 2, 2, 10, 12, 12, 42, 45]\n"
     ]
    }
   ],
   "source": [
    "arr = [12, 1, 2, 0, 45, 2, 10, 12, 42,] \n",
    "mergeSortCN(arr)\n",
    "print(arr)"
   ]
  },
  {
   "cell_type": "code",
   "execution_count": null,
   "metadata": {},
   "outputs": [],
   "source": []
  }
 ],
 "metadata": {
  "kernelspec": {
   "display_name": "Python 3",
   "language": "python",
   "name": "python3"
  },
  "language_info": {
   "codemirror_mode": {
    "name": "ipython",
    "version": 3
   },
   "file_extension": ".py",
   "mimetype": "text/x-python",
   "name": "python",
   "nbconvert_exporter": "python",
   "pygments_lexer": "ipython3",
   "version": "3.7.4"
  }
 },
 "nbformat": 4,
 "nbformat_minor": 2
}
