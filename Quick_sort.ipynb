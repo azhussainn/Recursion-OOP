{
 "cells": [
  {
   "cell_type": "code",
   "execution_count": 144,
   "metadata": {},
   "outputs": [
    {
     "name": "stdout",
     "output_type": "stream",
     "text": [
      "1 1\n"
     ]
    }
   ],
   "source": [
    "def partition(arr, start, end):\n",
    "    \n",
    "    pivot = arr[start]\n",
    "    count = 0\n",
    "    \n",
    "    for i in range(start, end):\n",
    "        if arr[i] < pivot:\n",
    "            count += 1\n",
    "            \n",
    "    k = start + count\n",
    "    \n",
    "    arr[start], arr[k] = arr[k], arr[start]\n",
    "    \n",
    "    i = start\n",
    "    j = end - 1\n",
    "    \n",
    "    while i <= k and j >= k:\n",
    "        if arr[i] < pivot:\n",
    "            i += 1\n",
    "        else:\n",
    "            if arr[j] > pivot:\n",
    "                j -= 1\n",
    "            \n",
    "            elif arr[j] < pivot:\n",
    "                arr[i], arr[j] = arr[j], arr[i]\n",
    "                i += 1\n",
    "                j -= 1\n",
    "                \n",
    "            else:\n",
    "                j -= 1\n",
    "    return k\n",
    "\n",
    "def quickSort(arr, start, end):\n",
    "    \n",
    "    #base case\n",
    "    if start >= end:\n",
    "        return arr\n",
    "    \n",
    "    i = partition(arr, start, end)\n",
    "    \n",
    "    quickSort(arr, start, i)\n",
    "    quickSort(arr, i+1, end)\n",
    "\n",
    "    \n",
    "arr= [1, 1]\n",
    "quickSort(arr, 0, len(arr))\n",
    "print(*arr)"
   ]
  },
  {
   "cell_type": "code",
   "execution_count": 145,
   "metadata": {},
   "outputs": [],
   "source": [
    "def partitionCN(a, si, ei):\n",
    "    \n",
    "    pivot = a[si]\n",
    "    \n",
    "    #find number of elements smaller than pivot\n",
    "    c = 0\n",
    "    for i in range(si, ei+1):\n",
    "        if a[i] < pivot:\n",
    "            c += 1\n",
    "            \n",
    "    a[si + c], a[si] =  a[si], a[si + c]\n",
    "    pivot_index = si + c\n",
    "    \n",
    "    i = si\n",
    "    j = ei\n",
    "    \n",
    "    while i < j:\n",
    "        if a[i] < pivot:\n",
    "            i += 1\n",
    "            \n",
    "        elif a[j] >= pivot:\n",
    "            j -= 1\n",
    "            \n",
    "        else:\n",
    "            a[i], a[j] = a[j], a[i]\n",
    "            i += 1\n",
    "            j -= 1\n",
    "            \n",
    "    return pivot_index\n",
    "    \n",
    "    \n",
    "\n",
    "def quick_sort(a, si, ei):\n",
    "    \n",
    "    if si >= ei:\n",
    "        return\n",
    "    \n",
    "    pivot_index = partitionCN(a, si, ei)\n",
    "    quick_sort(a, si, pivot_index - 1)\n",
    "    quick_sort(a, pivot_index + 1, ei)"
   ]
  },
  {
   "cell_type": "code",
   "execution_count": 148,
   "metadata": {},
   "outputs": [
    {
     "name": "stdout",
     "output_type": "stream",
     "text": [
      "1 2 3 4 5 6 6 8 9\n"
     ]
    }
   ],
   "source": [
    "arr = [6, 5, 1, 6, 2, 3, 8, 9, 4]\n",
    "quick_sort(arr, 0, len(arr) - 1)\n",
    "print(*arr)"
   ]
  },
  {
   "cell_type": "code",
   "execution_count": null,
   "metadata": {},
   "outputs": [],
   "source": []
  }
 ],
 "metadata": {
  "kernelspec": {
   "display_name": "Python 3",
   "language": "python",
   "name": "python3"
  },
  "language_info": {
   "codemirror_mode": {
    "name": "ipython",
    "version": 3
   },
   "file_extension": ".py",
   "mimetype": "text/x-python",
   "name": "python",
   "nbconvert_exporter": "python",
   "pygments_lexer": "ipython3",
   "version": "3.7.4"
  }
 },
 "nbformat": 4,
 "nbformat_minor": 2
}
