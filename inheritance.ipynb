{
 "cells": [
  {
   "cell_type": "code",
   "execution_count": 10,
   "metadata": {},
   "outputs": [],
   "source": [
    "class Vehicle:\n",
    "    \n",
    "    def __init__(self, color, maxSpeed):\n",
    "        self.color = color\n",
    "        self.maxSpeed = maxSpeed\n",
    "        \n",
    "        \n",
    "class Car(Vehicle):\n",
    "    \n",
    "    def __init__(self, color, maxSpeed, numGears, isConvertible):\n",
    "        super().__init__(color, maxSpeed)\n",
    "        self.numGears = numGears\n",
    "        self.isConvertible = isConvertible\n",
    "        \n",
    "    \n",
    "    def printCar(self):\n",
    "        print(\"color: \", self.color)\n",
    "        print(\"Maxspeed: \", self.maxSpeed)\n",
    "        print(\"No of Gears: \", self.numGears)\n",
    "        print(\"is Convertible: \", self.isConvertible)"
   ]
  },
  {
   "cell_type": "code",
   "execution_count": 11,
   "metadata": {},
   "outputs": [],
   "source": [
    "c = Car(\"red\", 15, 3, False)"
   ]
  },
  {
   "cell_type": "code",
   "execution_count": 12,
   "metadata": {},
   "outputs": [
    {
     "name": "stdout",
     "output_type": "stream",
     "text": [
      "color:  red\n",
      "Maxspeed:  15\n",
      "No of Gears:  3\n",
      "is Convertible:  False\n"
     ]
    }
   ],
   "source": [
    "c.printCar()"
   ]
  },
  {
   "cell_type": "markdown",
   "metadata": {},
   "source": [
    "#EXAMPLES"
   ]
  },
  {
   "cell_type": "code",
   "execution_count": 13,
   "metadata": {},
   "outputs": [
    {
     "ename": "AttributeError",
     "evalue": "'Car' object has no attribute 'color'",
     "output_type": "error",
     "traceback": [
      "\u001b[1;31m---------------------------------------------------------------------------\u001b[0m",
      "\u001b[1;31mAttributeError\u001b[0m                            Traceback (most recent call last)",
      "\u001b[1;32m<ipython-input-13-d10a1bfba247>\u001b[0m in \u001b[0;36m<module>\u001b[1;34m\u001b[0m\n\u001b[0;32m     10\u001b[0m \u001b[1;33m\u001b[0m\u001b[0m\n\u001b[0;32m     11\u001b[0m \u001b[0mc\u001b[0m\u001b[1;33m=\u001b[0m \u001b[0mCar\u001b[0m\u001b[1;33m(\u001b[0m\u001b[1;34m\"black\"\u001b[0m\u001b[1;33m,\u001b[0m\u001b[1;36m5\u001b[0m\u001b[1;33m)\u001b[0m\u001b[1;33m\u001b[0m\u001b[1;33m\u001b[0m\u001b[0m\n\u001b[1;32m---> 12\u001b[1;33m \u001b[0mprint\u001b[0m\u001b[1;33m(\u001b[0m\u001b[0mc\u001b[0m\u001b[1;33m.\u001b[0m\u001b[0mcolor\u001b[0m\u001b[1;33m)\u001b[0m\u001b[1;33m\u001b[0m\u001b[1;33m\u001b[0m\u001b[0m\n\u001b[0m",
      "\u001b[1;31mAttributeError\u001b[0m: 'Car' object has no attribute 'color'"
     ]
    }
   ],
   "source": [
    "class Vehicle:\n",
    "    \n",
    "    def __init__(self,color):\n",
    "        self.color = color\n",
    "        \n",
    "        \n",
    "class Car(Vehicle):\n",
    "    def __init__(self, color, numGears):\n",
    "        self.numGears = numGears\n",
    "        \n",
    "c= Car(\"black\",5)\n",
    "print(c.color)"
   ]
  },
  {
   "cell_type": "code",
   "execution_count": 14,
   "metadata": {},
   "outputs": [
    {
     "name": "stdout",
     "output_type": "stream",
     "text": [
      "black\n"
     ]
    }
   ],
   "source": [
    "class Vehicle:\n",
    "    \n",
    "    def __init__(self,color):\n",
    "        self.color = color\n",
    "        \n",
    "class Car(Vehicle):\n",
    "    def __init__(self,color,numGears):\n",
    "        super().__init__(color)\n",
    "        self.numGears = numGears\n",
    "        \n",
    "c= Car(\"black\",5)\n",
    "print(c.color)"
   ]
  },
  {
   "cell_type": "code",
   "execution_count": 22,
   "metadata": {},
   "outputs": [
    {
     "name": "stdout",
     "output_type": "stream",
     "text": [
      "color:  red\n",
      "Maxspeed:  15\n",
      "No of Gears:  3\n",
      "is Convertible:  False\n"
     ]
    }
   ],
   "source": [
    "#getters and setters for accessing the private members of\n",
    "#the base class\n",
    "\n",
    "class Vehicle:\n",
    "    \n",
    "    def __init__(self, color, maxSpeed):\n",
    "        self.color = color\n",
    "        self.__maxSpeed = maxSpeed\n",
    "        \n",
    "    \n",
    "    def getMaxSpeed(self):\n",
    "        return self.__maxSpeed\n",
    "    \n",
    "    def SetMaxSpeed(self, maxSpeed):\n",
    "        self.__maxSpeed = maxSpeed\n",
    "        \n",
    "        \n",
    "class Car(Vehicle):\n",
    "    \n",
    "    def __init__(self, color, maxSpeed, numGears, isConvertible):\n",
    "        super().__init__(color, maxSpeed)\n",
    "        self.numGears = numGears\n",
    "        self.isConvertible = isConvertible\n",
    "        \n",
    "    \n",
    "    def printCar(self):\n",
    "        print(\"color: \", self.color)\n",
    "        \n",
    "        #accessing the private member of the base class\n",
    "        #using a function of the base class and then printing\n",
    "        #it. \n",
    "        \n",
    "        print(\"Maxspeed: \", self.getMaxSpeed())\n",
    "        \n",
    "        \n",
    "        print(\"No of Gears: \", self.numGears)\n",
    "        print(\"is Convertible: \", self.isConvertible)\n",
    "        \n",
    "\n",
    "c = Car(\"red\", 15, 3, False)\n",
    "c.printCar()"
   ]
  },
  {
   "cell_type": "markdown",
   "metadata": {},
   "source": [
    "###EXAMPLES"
   ]
  },
  {
   "cell_type": "code",
   "execution_count": 19,
   "metadata": {},
   "outputs": [
    {
     "ename": "AttributeError",
     "evalue": "'Car' object has no attribute '_Car__color'",
     "output_type": "error",
     "traceback": [
      "\u001b[1;31m---------------------------------------------------------------------------\u001b[0m",
      "\u001b[1;31mAttributeError\u001b[0m                            Traceback (most recent call last)",
      "\u001b[1;32m<ipython-input-19-f32120483b00>\u001b[0m in \u001b[0;36m<module>\u001b[1;34m\u001b[0m\n\u001b[0;32m     13\u001b[0m \u001b[1;33m\u001b[0m\u001b[0m\n\u001b[0;32m     14\u001b[0m \u001b[0mc\u001b[0m \u001b[1;33m=\u001b[0m \u001b[0mCar\u001b[0m\u001b[1;33m(\u001b[0m\u001b[1;34m\"black\"\u001b[0m\u001b[1;33m,\u001b[0m\u001b[1;36m5\u001b[0m\u001b[1;33m)\u001b[0m\u001b[1;33m\u001b[0m\u001b[1;33m\u001b[0m\u001b[0m\n\u001b[1;32m---> 15\u001b[1;33m \u001b[0mc\u001b[0m\u001b[1;33m.\u001b[0m\u001b[0mprintCar\u001b[0m\u001b[1;33m(\u001b[0m\u001b[1;33m)\u001b[0m\u001b[1;33m\u001b[0m\u001b[1;33m\u001b[0m\u001b[0m\n\u001b[0m",
      "\u001b[1;32m<ipython-input-19-f32120483b00>\u001b[0m in \u001b[0;36mprintCar\u001b[1;34m(self)\u001b[0m\n\u001b[0;32m      9\u001b[0m \u001b[1;33m\u001b[0m\u001b[0m\n\u001b[0;32m     10\u001b[0m     \u001b[1;32mdef\u001b[0m \u001b[0mprintCar\u001b[0m\u001b[1;33m(\u001b[0m\u001b[0mself\u001b[0m\u001b[1;33m)\u001b[0m\u001b[1;33m:\u001b[0m\u001b[1;33m\u001b[0m\u001b[1;33m\u001b[0m\u001b[0m\n\u001b[1;32m---> 11\u001b[1;33m         \u001b[0mprint\u001b[0m\u001b[1;33m(\u001b[0m\u001b[0mc\u001b[0m\u001b[1;33m.\u001b[0m\u001b[0m__color\u001b[0m\u001b[1;33m,\u001b[0m\u001b[0mend\u001b[0m\u001b[1;33m=\u001b[0m\u001b[1;34m\"\"\u001b[0m\u001b[1;33m)\u001b[0m\u001b[1;33m\u001b[0m\u001b[1;33m\u001b[0m\u001b[0m\n\u001b[0m\u001b[0;32m     12\u001b[0m         \u001b[0mprint\u001b[0m\u001b[1;33m(\u001b[0m\u001b[0mc\u001b[0m\u001b[1;33m.\u001b[0m\u001b[0mnumGears\u001b[0m\u001b[1;33m)\u001b[0m\u001b[1;33m\u001b[0m\u001b[1;33m\u001b[0m\u001b[0m\n\u001b[0;32m     13\u001b[0m \u001b[1;33m\u001b[0m\u001b[0m\n",
      "\u001b[1;31mAttributeError\u001b[0m: 'Car' object has no attribute '_Car__color'"
     ]
    }
   ],
   "source": [
    "class Vehicle:\n",
    "    def __init__(self,color):\n",
    "        self.__color = color\n",
    "\n",
    "class Car(Vehicle):\n",
    "    def __init__(self,color,numGears):\n",
    "        super().__init__(color)\n",
    "        self.numGears = numGears\n",
    "    \n",
    "    def printCar(self):\n",
    "        print(c.__color,end=\"\")\n",
    "        print(c.numGears)\n",
    "              \n",
    "c = Car(\"black\",5)\n",
    "c.printCar()"
   ]
  },
  {
   "cell_type": "code",
   "execution_count": 23,
   "metadata": {},
   "outputs": [
    {
     "name": "stdout",
     "output_type": "stream",
     "text": [
      "color:  red\n",
      "Color:  red\n",
      "MaxSpeed:  15\n",
      "No of Gears:  3\n",
      "is Convertible:  False\n"
     ]
    }
   ],
   "source": [
    "#getters and setters for accessing the private members of\n",
    "#the base class\n",
    "\n",
    "class Vehicle:\n",
    "    \n",
    "    def __init__(self, color, maxSpeed):\n",
    "        self.color = color\n",
    "        self.__maxSpeed = maxSpeed\n",
    "        \n",
    "    \n",
    "    def getMaxSpeed(self):\n",
    "        return self.__maxSpeed\n",
    "    \n",
    "    def SetMaxSpeed(self, maxSpeed):\n",
    "        self.__maxSpeed = maxSpeed\n",
    "        \n",
    "        \n",
    "    def print_vechile_data(self):\n",
    "        print(\"Color: \", self.color)\n",
    "        print(\"MaxSpeed: \", self.__maxSpeed)\n",
    "        \n",
    "        \n",
    "class Car(Vehicle):\n",
    "    \n",
    "    def __init__(self, color, maxSpeed, numGears, isConvertible):\n",
    "        super().__init__(color, maxSpeed)\n",
    "        self.numGears = numGears\n",
    "        self.isConvertible = isConvertible    \n",
    "        \n",
    "    \n",
    "    def printCar(self):\n",
    "        print(\"color: \", self.color)\n",
    "        \n",
    "        \n",
    "        #using the print_vechile function of the base class to\n",
    "        #print the private members of it, here in the derieved\n",
    "        #class\n",
    "        self.print_vechile_data()\n",
    "        \n",
    "        \n",
    "        print(\"No of Gears: \", self.numGears)\n",
    "        print(\"is Convertible: \", self.isConvertible)\n",
    "        \n",
    "\n",
    "c = Car(\"red\", 15, 3, False)\n",
    "c.printCar()"
   ]
  },
  {
   "cell_type": "code",
   "execution_count": null,
   "metadata": {},
   "outputs": [],
   "source": []
  }
 ],
 "metadata": {
  "kernelspec": {
   "display_name": "Python 3",
   "language": "python",
   "name": "python3"
  },
  "language_info": {
   "codemirror_mode": {
    "name": "ipython",
    "version": 3
   },
   "file_extension": ".py",
   "mimetype": "text/x-python",
   "name": "python",
   "nbconvert_exporter": "python",
   "pygments_lexer": "ipython3",
   "version": "3.7.4"
  }
 },
 "nbformat": 4,
 "nbformat_minor": 2
}
