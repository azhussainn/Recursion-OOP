{
 "cells": [
  {
   "cell_type": "code",
   "execution_count": 16,
   "metadata": {},
   "outputs": [],
   "source": [
    "class Student:\n",
    "    \n",
    "    passingPercentage = 40\n",
    "    \n",
    "    def studentDetails(self):\n",
    "        self.name = \"Azhar\"\n",
    "        print(\"name = \", self.name)\n",
    "        self.percentage = 80\n",
    "        print(\"percentage\", self.percentage)\n",
    "        \n",
    "    def isPassed(self):\n",
    "        if self.percentage > self.passingPercentage:\n",
    "            print(self.name, \"has passed\")\n",
    "        else:\n",
    "            print(self.name, \"has failed\")\n",
    "     \n",
    "    \n",
    "    #this keywords/ decorator will stop the binding of an instance\n",
    "    #to this function.\n",
    "    # a static method is also called a class method.\n",
    "    #it has nothing to do with the a specific instance, its a method\n",
    "    #of the class.\n",
    "    @staticmethod        \n",
    "    def welcomeToSchool():\n",
    "        print(\"hey welcome to School\")"
   ]
  },
  {
   "cell_type": "code",
   "execution_count": 17,
   "metadata": {},
   "outputs": [
    {
     "name": "stdout",
     "output_type": "stream",
     "text": [
      "hey welcome to School\n"
     ]
    }
   ],
   "source": [
    "s1 = Student()\n",
    "s1.welcomeToSchool()"
   ]
  },
  {
   "cell_type": "code",
   "execution_count": null,
   "metadata": {},
   "outputs": [],
   "source": []
  }
 ],
 "metadata": {
  "kernelspec": {
   "display_name": "Python 3",
   "language": "python",
   "name": "python3"
  },
  "language_info": {
   "codemirror_mode": {
    "name": "ipython",
    "version": 3
   },
   "file_extension": ".py",
   "mimetype": "text/x-python",
   "name": "python",
   "nbconvert_exporter": "python",
   "pygments_lexer": "ipython3",
   "version": "3.7.4"
  }
 },
 "nbformat": 4,
 "nbformat_minor": 2
}
