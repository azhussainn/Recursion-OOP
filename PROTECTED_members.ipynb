{
 "cells": [
  {
   "cell_type": "code",
   "execution_count": 3,
   "metadata": {},
   "outputs": [
    {
     "name": "stdout",
     "output_type": "stream",
     "text": [
      "Color:  red\n",
      "maxSpeed:  15\n",
      "No of Gears:  3\n",
      "is Convertible:  False\n"
     ]
    }
   ],
   "source": [
    "#so there is basically no difference b/w public and\n",
    "#protected members in python, excpet for one thing, \n",
    "#python assumes that programmers are sensible people\n",
    "#and they wont change the data of the protected \n",
    "#members, they can but they should'nt.\n",
    "\n",
    "#one more restriction is that one should access\n",
    "#the protected member as little as possible.\n",
    "#i.e dont go on accessing them willy nilly.\n",
    "\n",
    "class Vehicle:\n",
    "    \n",
    "    def __init__(self, color, maxSpeed):\n",
    "        self.color = color\n",
    "        self._maxSpeed = maxSpeed\n",
    "        \n",
    "    \n",
    "    def getMaxSpeed(self):\n",
    "        return self._maxSpeed\n",
    "    \n",
    "    def SetMaxSpeed(self, maxSpeed):\n",
    "        self._maxSpeed = maxSpeed\n",
    "        \n",
    "        \n",
    "    def print_vechile_data(self):\n",
    "        print(\"Color: \", self.color)\n",
    "        print(\"MaxSpeed: \", self.__maxSpeed)\n",
    "        \n",
    "        \n",
    "class Car(Vehicle):\n",
    "    \n",
    "    def __init__(self, color, maxSpeed, numGears, isConvertible):\n",
    "        \n",
    "        super().__init__(color, maxSpeed)\n",
    "        self.numGears = numGears\n",
    "        self.isConvertible = isConvertible    \n",
    "        \n",
    "    def print_vechile_data(self):\n",
    "        \n",
    "        print(\"Color: \", self.color)\n",
    "        print(\"maxSpeed: \", self._maxSpeed)\n",
    "        print(\"No of Gears: \", self.numGears)\n",
    "        print(\"is Convertible: \", self.isConvertible)\n",
    "        \n",
    "\n",
    "c = Car(\"red\", 15, 3, False)\n",
    "c.print_vechile_data()"
   ]
  },
  {
   "cell_type": "code",
   "execution_count": 7,
   "metadata": {},
   "outputs": [],
   "source": [
    "v = Vehicle(\"black\", 20)"
   ]
  },
  {
   "cell_type": "code",
   "execution_count": 8,
   "metadata": {},
   "outputs": [
    {
     "data": {
      "text/plain": [
       "{'color': 'black', '_maxSpeed': 20}"
      ]
     },
     "execution_count": 8,
     "metadata": {},
     "output_type": "execute_result"
    }
   ],
   "source": [
    "v.__dict__"
   ]
  },
  {
   "cell_type": "code",
   "execution_count": 9,
   "metadata": {},
   "outputs": [],
   "source": [
    "v._maxSpeed = 1000"
   ]
  },
  {
   "cell_type": "code",
   "execution_count": 11,
   "metadata": {},
   "outputs": [
    {
     "data": {
      "text/plain": [
       "{'color': 'black', '_maxSpeed': 1000}"
      ]
     },
     "execution_count": 11,
     "metadata": {},
     "output_type": "execute_result"
    }
   ],
   "source": [
    "#so you see you can change them, but you shouldnt\n",
    "#if you're a sensible pythonist.\n",
    "v.__dict__"
   ]
  },
  {
   "cell_type": "code",
   "execution_count": null,
   "metadata": {},
   "outputs": [],
   "source": []
  }
 ],
 "metadata": {
  "kernelspec": {
   "display_name": "Python 3",
   "language": "python",
   "name": "python3"
  },
  "language_info": {
   "codemirror_mode": {
    "name": "ipython",
    "version": 3
   },
   "file_extension": ".py",
   "mimetype": "text/x-python",
   "name": "python",
   "nbconvert_exporter": "python",
   "pygments_lexer": "ipython3",
   "version": "3.7.4"
  }
 },
 "nbformat": 4,
 "nbformat_minor": 2
}
