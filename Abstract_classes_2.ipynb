{
 "cells": [
  {
   "cell_type": "code",
   "execution_count": 1,
   "metadata": {},
   "outputs": [],
   "source": [
    "from abc import ABC, abstractmethod"
   ]
  },
  {
   "cell_type": "code",
   "execution_count": 17,
   "metadata": {},
   "outputs": [],
   "source": [
    "class Automobile(ABC):\n",
    "    \n",
    "    def __init__(self, no_of_wheels):\n",
    "        self.no_of_wheels = no_of_wheels\n",
    "        print(\"Automobile Created\")\n",
    "    \n",
    "    @abstractmethod\n",
    "    def start(self):\n",
    "        \n",
    "        #so basically you can have have code in abstract\n",
    "        #that could be used in a base class, if required.\n",
    "        print(\"Start method of Automobile\")\n",
    "    \n",
    "    @abstractmethod\n",
    "    def stop(self):\n",
    "        pass\n",
    "    \n",
    "    @abstractmethod\n",
    "    def drive(self):\n",
    "        pass\n",
    "    \n",
    "    @abstractmethod\n",
    "    def get_no_of_wheels(self):\n",
    "        return self.no_of_wheels"
   ]
  },
  {
   "cell_type": "code",
   "execution_count": 24,
   "metadata": {},
   "outputs": [],
   "source": [
    "class Car(Automobile):\n",
    "    \n",
    "    def start(self):\n",
    "        #calling @abstractmethod \"start\" of Abstract class Automobile\n",
    "        super().start()\n",
    "        print(\"Start method of Car\")\n",
    "    \n",
    "    def stop(self):\n",
    "        pass\n",
    "    \n",
    "    def drive(self):\n",
    "        pass\n",
    "    \n",
    "    def get_no_of_wheels(self):\n",
    "        return super().get_no_of_wheels()"
   ]
  },
  {
   "cell_type": "code",
   "execution_count": 25,
   "metadata": {},
   "outputs": [
    {
     "name": "stdout",
     "output_type": "stream",
     "text": [
      "Automobile Created\n"
     ]
    }
   ],
   "source": [
    "c = Car(4)"
   ]
  },
  {
   "cell_type": "code",
   "execution_count": 26,
   "metadata": {},
   "outputs": [
    {
     "data": {
      "text/plain": [
       "4"
      ]
     },
     "execution_count": 26,
     "metadata": {},
     "output_type": "execute_result"
    }
   ],
   "source": [
    "c.get_no_of_wheels()"
   ]
  },
  {
   "cell_type": "code",
   "execution_count": 27,
   "metadata": {},
   "outputs": [
    {
     "name": "stdout",
     "output_type": "stream",
     "text": [
      "Start method of Automobile\n",
      "Start method of Car\n"
     ]
    }
   ],
   "source": [
    "c.start()"
   ]
  },
  {
   "cell_type": "markdown",
   "metadata": {},
   "source": [
    "Examples:"
   ]
  },
  {
   "cell_type": "code",
   "execution_count": 28,
   "metadata": {},
   "outputs": [
    {
     "name": "stdout",
     "output_type": "stream",
     "text": [
      "function 1 called\n"
     ]
    }
   ],
   "source": [
    "from abc import ABC,abstractmethod\n",
    "\n",
    "class A(ABC):\n",
    "\n",
    "    @abstractmethod\n",
    "    def fun1(self):\n",
    "        print(\"function of class A called\")\n",
    "\n",
    "    @abstractmethod\n",
    "    def fun2(self):\n",
    "        pass\n",
    "\n",
    "class B(A):\n",
    "    \n",
    "    def fun1(self):\n",
    "        print(\"function 1 called\")\n",
    "        \n",
    "    def fun2(self):\n",
    "        print(\"function 2 called\")\n",
    "\n",
    "o = B()\n",
    "o.fun1()"
   ]
  },
  {
   "cell_type": "code",
   "execution_count": 29,
   "metadata": {},
   "outputs": [
    {
     "name": "stdout",
     "output_type": "stream",
     "text": [
      "function of class A called\n"
     ]
    }
   ],
   "source": [
    "from abc import ABC,abstractmethod\n",
    "\n",
    "class A(ABC):\n",
    "\n",
    "    @abstractmethod\n",
    "    def fun1(self):\n",
    "        print(\"function of class A called\")\n",
    "\n",
    "    @abstractmethod\n",
    "    def fun2(self):\n",
    "        pass\n",
    "\n",
    "class B(A):\n",
    "    def fun1(self):\n",
    "        super().fun1()\n",
    "    \n",
    "    def fun2(self):\n",
    "        print(\"function 2 called\")\n",
    "o = B()\n",
    "o.fun1()"
   ]
  },
  {
   "cell_type": "code",
   "execution_count": null,
   "metadata": {},
   "outputs": [],
   "source": []
  }
 ],
 "metadata": {
  "kernelspec": {
   "display_name": "Python 3",
   "language": "python",
   "name": "python3"
  },
  "language_info": {
   "codemirror_mode": {
    "name": "ipython",
    "version": 3
   },
   "file_extension": ".py",
   "mimetype": "text/x-python",
   "name": "python",
   "nbconvert_exporter": "python",
   "pygments_lexer": "ipython3",
   "version": "3.7.4"
  }
 },
 "nbformat": 4,
 "nbformat_minor": 2
}
