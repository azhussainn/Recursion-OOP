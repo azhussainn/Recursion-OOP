{
 "cells": [
  {
   "cell_type": "code",
   "execution_count": 168,
   "metadata": {},
   "outputs": [
    {
     "name": "stdout",
     "output_type": "stream",
     "text": [
      "-1\n",
      "-1\n",
      "1\n"
     ]
    }
   ],
   "source": [
    "def mult(m , n, c):\n",
    "    \n",
    "    if n == 0 or m == 0:\n",
    "        return 0\n",
    "    \n",
    "    elif c == 1:\n",
    "        return m\n",
    "    \n",
    "    elif c == -1:\n",
    "        return -m\n",
    "    \n",
    "    elif m > 0 and n > 0:\n",
    "        return m + mult(m, n, c - 1)\n",
    "    \n",
    "    elif m < 0 and n < 0:\n",
    "        return (-m) + mult(m, n, c + 1)\n",
    "    \n",
    "    elif m < 0 and n > 0:\n",
    "        return (m) + mult(m, n, c - 1)\n",
    "    \n",
    "    elif m > 0 and n < 0:\n",
    "        return (-m) + mult(m, n, c + 1)\n",
    "    \n",
    "\n",
    "m = int(input())\n",
    "n = int(input())\n",
    "c = n\n",
    "print(mult(m, n, c))"
   ]
  },
  {
   "cell_type": "code",
   "execution_count": 203,
   "metadata": {},
   "outputs": [
    {
     "name": "stdout",
     "output_type": "stream",
     "text": [
      "0102030\n",
      "3\n"
     ]
    }
   ],
   "source": [
    "def zero_count(s):\n",
    "    if len(s) == 0:\n",
    "        return 0\n",
    "        \n",
    "    x = zero_count(s[1:])\n",
    "    if s[0] == '0':\n",
    "        return x + 1\n",
    "    else:\n",
    "        return x\n",
    "    \n",
    "c = 0\n",
    "print(zero_count(str(int(input()))))"
   ]
  },
  {
   "cell_type": "code",
   "execution_count": 219,
   "metadata": {},
   "outputs": [],
   "source": [
    "def string_to_int(s):\n",
    "    \n",
    "    if len(s) == 1:\n",
    "        return ord(s[0]) - ord('0')\n",
    "    \n",
    "    x = string_to_int(s[1:])\n",
    "    y = ord(s[0]) - ord('0')\n",
    "    m = y*(10 **(len(s) - 1))\n",
    "    return m + x"
   ]
  },
  {
   "cell_type": "code",
   "execution_count": 220,
   "metadata": {},
   "outputs": [
    {
     "data": {
      "text/plain": [
       "1234"
      ]
     },
     "execution_count": 220,
     "metadata": {},
     "output_type": "execute_result"
    }
   ],
   "source": [
    "s = \"1234\"\n",
    "string_to_int(s)"
   ]
  },
  {
   "cell_type": "code",
   "execution_count": 241,
   "metadata": {},
   "outputs": [],
   "source": [
    "def func(s):\n",
    "    \n",
    "    if len(s) == 1:\n",
    "        return s\n",
    "    \n",
    "    x = func(s[1:])\n",
    "    if s[0] == x[0]:\n",
    "\n",
    "        return s[0] + \"*\" + x\n",
    "    else:\n",
    "        return s[0] + x"
   ]
  },
  {
   "cell_type": "code",
   "execution_count": 245,
   "metadata": {},
   "outputs": [
    {
     "name": "stdout",
     "output_type": "stream",
     "text": [
      "ayus*s*s*sa*ayo*o\n"
     ]
    }
   ],
   "source": [
    "s = \"ayussssaayoo\"\n",
    "print(func(s))"
   ]
  },
  {
   "cell_type": "code",
   "execution_count": 4,
   "metadata": {},
   "outputs": [],
   "source": [
    "def checkAB(s):\n",
    "    \n",
    "    if len(s) == 0:\n",
    "        return True\n",
    "    \n",
    "    start_check = True\n",
    "    stop = False\n",
    "    \n",
    "    i = 0\n",
    "    while i < len(s) and start_check and not(stop):\n",
    "        if i == 0 and s[i] != 'a':\n",
    "            start_check = False\n",
    "            \n",
    "        elif s[i] == 'b':\n",
    "            stop = True\n",
    "        \n",
    "        i += 1\n",
    "          \n",
    "    if start_check and not(stop):\n",
    "        return True\n",
    "    \n",
    "    elif start_check and stop:\n",
    "        \n",
    "        if s[i-1] == s[i:i+1]:\n",
    "            return checkAB(s[i+1:])\n",
    "        \n",
    "        else:\n",
    "            return False\n",
    "    \n",
    "    else:\n",
    "        return False"
   ]
  },
  {
   "cell_type": "code",
   "execution_count": 7,
   "metadata": {},
   "outputs": [
    {
     "data": {
      "text/plain": [
       "True"
      ]
     },
     "execution_count": 7,
     "metadata": {},
     "output_type": "execute_result"
    }
   ],
   "source": [
    "s = \"aaa\"\n",
    "checkAB(s)"
   ]
  },
  {
   "cell_type": "code",
   "execution_count": 68,
   "metadata": {},
   "outputs": [
    {
     "name": "stdout",
     "output_type": "stream",
     "text": [
      "4\n",
      "7\n"
     ]
    }
   ],
   "source": [
    "def staircase(n):\n",
    "    if n <= 0:\n",
    "        return 0\n",
    "    \n",
    "    if n == 1:\n",
    "        return 1\n",
    "    \n",
    "    if n == 2:\n",
    "        return 2\n",
    "    \n",
    "    if n == 3:\n",
    "        return 4\n",
    "    \n",
    "    \n",
    "    x = staircase(n - 1)\n",
    "    y = staircase(n - 2)\n",
    "    z = staircase(n - 3)\n",
    "    return x + y + z\n",
    "\n",
    "print(staircase(int(input())))"
   ]
  },
  {
   "cell_type": "code",
   "execution_count": null,
   "metadata": {},
   "outputs": [],
   "source": []
  }
 ],
 "metadata": {
  "kernelspec": {
   "display_name": "Python 3",
   "language": "python",
   "name": "python3"
  },
  "language_info": {
   "codemirror_mode": {
    "name": "ipython",
    "version": 3
   },
   "file_extension": ".py",
   "mimetype": "text/x-python",
   "name": "python",
   "nbconvert_exporter": "python",
   "pygments_lexer": "ipython3",
   "version": "3.7.4"
  }
 },
 "nbformat": 4,
 "nbformat_minor": 2
}
