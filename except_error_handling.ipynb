{
 "cells": [
  {
   "cell_type": "code",
   "execution_count": 4,
   "metadata": {},
   "outputs": [
    {
     "name": "stdout",
     "output_type": "stream",
     "text": [
      "enter the numerator2\n",
      "enter the denominator0\n",
      "zeros cant be a denominator error\n",
      "enter the numerator2\n",
      "enter the denominator2\n",
      "1.0\n"
     ]
    }
   ],
   "source": [
    "class Zero_cant_be_denominator(ZeroDivisionError):\n",
    "    pass\n",
    "\n",
    "while True:\n",
    "    try:\n",
    "        n = input(\"enter the numerator\")\n",
    "        num = int(n)\n",
    "\n",
    "        n = input(\"enter the denominator\")\n",
    "        denum = int(n)\n",
    "        \n",
    "        if denum == 0:\n",
    "            raise Zero_cant_be_denominator(\"Zero cant be denominator\")\n",
    "        \n",
    "        value = num / denum\n",
    "        print(value)\n",
    "        \n",
    "        break\n",
    "    except ValueError:\n",
    "        print(\"Numerator and Denominators should be integers\")\n",
    "    \n",
    "    #the Zero_cant_be_denominator exception will be executed.\n",
    "    #because of 2 reasons:\n",
    "    #1. Its matches the error\n",
    "    #2. It comes first.\n",
    "    except Zero_cant_be_denominator:\n",
    "        print(\"zeros cant be a denominator error\")\n",
    "    except ZeroDivisionError:\n",
    "        print(\"the actual zero division error\")"
   ]
  },
  {
   "cell_type": "code",
   "execution_count": 5,
   "metadata": {},
   "outputs": [
    {
     "name": "stdout",
     "output_type": "stream",
     "text": [
      "enter the numerator2\n",
      "enter the denominator0\n",
      "the actual zero division error\n",
      "enter the numerator2\n",
      "enter the denominator2\n",
      "1.0\n"
     ]
    }
   ],
   "source": [
    "class Zero_cant_be_denominator(ZeroDivisionError):\n",
    "    pass\n",
    "\n",
    "while True:\n",
    "    try:\n",
    "        n = input(\"enter the numerator\")\n",
    "        num = int(n)\n",
    "\n",
    "        n = input(\"enter the denominator\")\n",
    "        denum = int(n)\n",
    "        \n",
    "        if denum == 0:\n",
    "            raise Zero_cant_be_denominator(\"Zero cant be denominator\")\n",
    "        \n",
    "        value = num / denum\n",
    "        print(value)\n",
    "        \n",
    "        break\n",
    "    except ValueError:\n",
    "        print(\"Numerator and Denominators should be integers\")\n",
    "    \n",
    "    #the ZeroDivisionError exception will be executed.\n",
    "    #because of 2 reasons:\n",
    "    #1. Its matches the error\n",
    "    #2. It comes first.\n",
    "    \n",
    "    except ZeroDivisionError:\n",
    "        print(\"the actual zero division error\")\n",
    "        \n",
    "        \n",
    "    except Zero_cant_be_denominator:\n",
    "        print(\"zeros cant be a denominator error\")"
   ]
  },
  {
   "cell_type": "code",
   "execution_count": 6,
   "metadata": {},
   "outputs": [
    {
     "name": "stdout",
     "output_type": "stream",
     "text": [
      "enter the numerator2\n",
      "enter the denominatora\n",
      "Numerator and Denominators should be integers\n",
      "enter the numerator2 \\\n",
      "Numerator and Denominators should be integers\n",
      "enter the numerator2\n",
      "enter the denominators\n",
      "Numerator and Denominators should be integers\n",
      "enter the numerator2\n",
      "enter the denominatorf\n",
      "Numerator and Denominators should be integers\n",
      "enter the numerator3\n",
      "enter the denominator6\n",
      "0.5\n"
     ]
    }
   ],
   "source": [
    "class Zero_cant_be_denominator(ZeroDivisionError):\n",
    "    pass\n",
    "\n",
    "while True:\n",
    "    try:\n",
    "        n = input(\"enter the numerator\")\n",
    "        num = int(n)\n",
    "\n",
    "        n = input(\"enter the denominator\")\n",
    "        denum = int(n)\n",
    "        \n",
    "        if denum == 0:\n",
    "            raise Zero_cant_be_denominator(\"Zero cant be denominator\")\n",
    "        \n",
    "        value = num / denum\n",
    "        print(value)\n",
    "        \n",
    "        break\n",
    "    except ValueError:\n",
    "        print(\"Numerator and Denominators should be integers\")\n",
    "    \n",
    "    #the ZeroDivisionError exception will be executed.\n",
    "    #because of 2 reasons:\n",
    "    #1. Its matches the error\n",
    "    #2. It comes first.\n",
    "    \n",
    "    except ZeroDivisionError:\n",
    "        print(\"the actual zero division error\")\n",
    "        \n",
    "        \n",
    "    except Zero_cant_be_denominator:\n",
    "        print(\"zeros cant be a denominator error\")\n",
    "        \n",
    "    except:\n",
    "        print(\"some exception\")"
   ]
  },
  {
   "cell_type": "markdown",
   "metadata": {},
   "source": [
    "#EXAMPLES"
   ]
  },
  {
   "cell_type": "code",
   "execution_count": 7,
   "metadata": {},
   "outputs": [
    {
     "name": "stdout",
     "output_type": "stream",
     "text": [
      "Zero Division Error occured\n"
     ]
    }
   ],
   "source": [
    "class ZeroDenominatorError(ZeroDivisionError):\n",
    "    pass\n",
    "\n",
    "try:\n",
    "    a = 10\n",
    "    b = 0\n",
    "    if(b==0):\n",
    "        raise ZeroDenominatorError()\n",
    "    c = a/b\n",
    "\n",
    "except ZeroDivisionError:\n",
    "    print('Zero Division Error occured')\n",
    "    \n",
    "except ZeroDenominatorError:\n",
    "    print('Zero Denominator Error occured')"
   ]
  },
  {
   "cell_type": "code",
   "execution_count": null,
   "metadata": {},
   "outputs": [],
   "source": []
  }
 ],
 "metadata": {
  "kernelspec": {
   "display_name": "Python 3",
   "language": "python",
   "name": "python3"
  },
  "language_info": {
   "codemirror_mode": {
    "name": "ipython",
    "version": 3
   },
   "file_extension": ".py",
   "mimetype": "text/x-python",
   "name": "python",
   "nbconvert_exporter": "python",
   "pygments_lexer": "ipython3",
   "version": "3.7.4"
  }
 },
 "nbformat": 4,
 "nbformat_minor": 2
}
