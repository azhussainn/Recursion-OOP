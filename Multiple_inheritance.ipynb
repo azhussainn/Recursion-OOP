{
 "cells": [
  {
   "cell_type": "code",
   "execution_count": 7,
   "metadata": {},
   "outputs": [],
   "source": [
    "class Mother:\n",
    "    \n",
    "    def print_something(self):\n",
    "        print(\"print of Mother Called\")\n",
    "        \n",
    "        \n",
    "class Father:\n",
    "    \n",
    "    def print_something(self):\n",
    "        print(\"print of Father Called\")\n",
    "        \n",
    "\n",
    "\n",
    "#here we give more precedence to Father class than to Mother\n",
    "#so if there are similar functions in the mother and father\n",
    "#the function of Father will be executed.\n",
    "class Child(Father, Mother):\n",
    "    \n",
    "    def __init__(self, name):\n",
    "        self.name = name\n",
    "        \n",
    "    def printChild(self):\n",
    "        print(\"Name of child is \", self.name)"
   ]
  },
  {
   "cell_type": "code",
   "execution_count": 8,
   "metadata": {},
   "outputs": [],
   "source": [
    "c = Child(\"Rohan\")"
   ]
  },
  {
   "cell_type": "code",
   "execution_count": 9,
   "metadata": {},
   "outputs": [
    {
     "name": "stdout",
     "output_type": "stream",
     "text": [
      "Name of child is  Rohan\n"
     ]
    }
   ],
   "source": [
    "c.printChild()"
   ]
  },
  {
   "cell_type": "code",
   "execution_count": 10,
   "metadata": {},
   "outputs": [
    {
     "name": "stdout",
     "output_type": "stream",
     "text": [
      "print of Father Called\n"
     ]
    }
   ],
   "source": [
    "#here the print of the father will be executed because\n",
    "c.print_something()"
   ]
  },
  {
   "cell_type": "code",
   "execution_count": 15,
   "metadata": {},
   "outputs": [],
   "source": [
    "#here the print of mather will be executed\n",
    "class Child(Mother, Father):\n",
    "    \n",
    "    def __init__(self, name):\n",
    "        self.name = name\n",
    "        \n",
    "    def printChild(self):\n",
    "        print(\"Name of child is \", self.name)"
   ]
  },
  {
   "cell_type": "code",
   "execution_count": 16,
   "metadata": {},
   "outputs": [],
   "source": [
    "c = Child(\"Rohan\")"
   ]
  },
  {
   "cell_type": "code",
   "execution_count": 17,
   "metadata": {},
   "outputs": [
    {
     "name": "stdout",
     "output_type": "stream",
     "text": [
      "print of Mother Called\n"
     ]
    }
   ],
   "source": [
    "c.print_something()"
   ]
  },
  {
   "cell_type": "code",
   "execution_count": null,
   "metadata": {},
   "outputs": [],
   "source": []
  }
 ],
 "metadata": {
  "kernelspec": {
   "display_name": "Python 3",
   "language": "python",
   "name": "python3"
  },
  "language_info": {
   "codemirror_mode": {
    "name": "ipython",
    "version": 3
   },
   "file_extension": ".py",
   "mimetype": "text/x-python",
   "name": "python",
   "nbconvert_exporter": "python",
   "pygments_lexer": "ipython3",
   "version": "3.7.4"
  }
 },
 "nbformat": 4,
 "nbformat_minor": 2
}
